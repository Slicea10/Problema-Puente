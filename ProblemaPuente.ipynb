{
  "nbformat": 4,
  "nbformat_minor": 0,
  "metadata": {
    "colab": {
      "provenance": []
    },
    "kernelspec": {
      "name": "python3",
      "display_name": "Python 3"
    },
    "language_info": {
      "name": "python"
    }
  },
  "cells": [
    {
      "cell_type": "markdown",
      "source": [
        "Santiago Licea"
      ],
      "metadata": {
        "id": "q7GK0CPxxUYb"
      }
    },
    {
      "cell_type": "code",
      "execution_count": 55,
      "metadata": {
        "id": "B6pafFAhP-xH"
      },
      "outputs": [],
      "source": [
        "import multiprocessing as mp\n",
        "from threading import *\n",
        "import time\n",
        "import queue"
      ]
    },
    {
      "cell_type": "markdown",
      "source": [
        "El código tiene muchas mejoras. Unicamente acepta multiplos de tres en ambos lados, por lo que si fuesen 5 coches en un lado, pasarian tres por el puente y eventualmente pasarian los dos restantes pero como no se son tres, no mandaría la señal a los coches que van en sentido contrario de que es su turno por lo que estos ultimos quedarian en starving. "
      ],
      "metadata": {
        "id": "ZqEwDseivs0p"
      }
    },
    {
      "cell_type": "code",
      "source": [
        "def carrito_norte(sema, dir, q):\n",
        "  print(\"LLegué al puente, voy al NORTE\")\n",
        "  while True:\n",
        "    if dir.value==1:\n",
        "      #with q.mutex:\n",
        "        #if q.qsize()==0:\n",
        "          #regresa a while true, pero no hay forma de hacer esto\n",
        "      q.put(1)\n",
        "      if q.qsize()==3:\n",
        "        q.queue.clear()\n",
        "        dir.value=0\n",
        "\n",
        "      sema.acquire()\n",
        "      print(\"Estoy cruzando el puente hacia el NORTE\")\n",
        "      time.sleep(1)\n",
        "      print(\"Salí del puente hacia el NORTE\")\n",
        "      sema.release()\n",
        "      break\n",
        "    else:\n",
        "      continue\n",
        "    break"
      ],
      "metadata": {
        "id": "s60Vr90qQKET"
      },
      "execution_count": 62,
      "outputs": []
    },
    {
      "cell_type": "code",
      "source": [
        "def carrito_sur(sema, dir, q):\n",
        "  print(\"LLegué al puente, voy al SUR\")\n",
        "  while True:\n",
        "    if dir.value==0:\n",
        "      #with q.mutex:\n",
        "        #if q.qsize()==0:\n",
        "          #regresa a while true, pero no hay forma de hacer esto\n",
        "      q.put(1)\n",
        "      if q.qsize()==3:\n",
        "        q.queue.clear()\n",
        "        dir.value=1\n",
        "\n",
        "      sema.acquire()\n",
        "      print(\"Estoy cruzando el puente hacia el SUR\")\n",
        "      time.sleep(1)\n",
        "      print(\"Salí del puente hacia el SUR\")\n",
        "      sema.release()\n",
        "      break\n",
        "    else:\n",
        "      continue\n",
        "    break"
      ],
      "metadata": {
        "id": "MSSNiDAoSLnG"
      },
      "execution_count": 65,
      "outputs": []
    },
    {
      "cell_type": "code",
      "source": [
        "sema = Semaphore(1)\n",
        "dir = mp.Value('i', 1) #dirección norte=1, sur=0\n",
        "q = queue.Queue()\n",
        "\n",
        "t1_norte = Thread(target = carrito_norte, args = (sema,dir,q,))\n",
        "t2_norte = Thread(target = carrito_norte, args = (sema,dir,q,))\n",
        "t3_norte = Thread(target = carrito_norte, args = (sema,dir,q,))\n",
        "\n",
        "t1_sur = Thread(target = carrito_sur, args = (sema,dir,q,))\n",
        "t2_sur = Thread(target = carrito_sur, args = (sema,dir,q,))\n",
        "t3_sur = Thread(target = carrito_sur, args = (sema,dir,q,))\n",
        "\n",
        "t1_norte.start()\n",
        "t2_norte.start()\n",
        "t3_norte.start()\n",
        "t1_sur.start()\n",
        "t2_sur.start()\n",
        "t3_sur.start()\n",
        "\n",
        "\n",
        "t1_norte.join()\n",
        "t2_norte.join()\n",
        "t3_norte.join()\n",
        "t1_sur.join()\n",
        "t2_sur.join()\n",
        "t3_sur.join()"
      ],
      "metadata": {
        "id": "I3QkIhXNSQZp",
        "colab": {
          "base_uri": "https://localhost:8080/"
        },
        "outputId": "51f393cd-8a53-42d0-afc7-4240e6c572d2"
      },
      "execution_count": 66,
      "outputs": [
        {
          "output_type": "stream",
          "name": "stdout",
          "text": [
            "LLegué al puente, voy al NORTE\n",
            "Estoy cruzando el puente hacia el NORTE\n",
            "LLegué al puente, voy al NORTE\n",
            "LLegué al puente, voy al NORTE\n",
            "LLegué al puente, voy al SUR\n",
            "LLegué al puente, voy al SURLLegué al puente, voy al SUR\n",
            "\n",
            "Salí del puente hacia el NORTE\n",
            "Estoy cruzando el puente hacia el NORTE\n",
            "Salí del puente hacia el NORTE\n",
            "Estoy cruzando el puente hacia el NORTE\n",
            "Salí del puente hacia el NORTE\n",
            "Estoy cruzando el puente hacia el SUR\n",
            "Salí del puente hacia el SUR\n",
            "Estoy cruzando el puente hacia el SUR\n",
            "Salí del puente hacia el SUR\n",
            "Estoy cruzando el puente hacia el SUR\n",
            "Salí del puente hacia el SUR\n"
          ]
        }
      ]
    }
  ]
}